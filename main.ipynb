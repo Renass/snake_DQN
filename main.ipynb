{
 "cells": [
  {
   "cell_type": "code",
   "execution_count": 4,
   "metadata": {},
   "outputs": [
    {
     "name": "stdout",
     "output_type": "stream",
     "text": [
      "(300, 300)\n",
      "cpu\n"
     ]
    }
   ],
   "source": [
    "import pygame\n",
    "from settings import Settings\n",
    "import game_functions as gf\n",
    "import agent as ag\n",
    "import keyboard as k\n",
    "\n",
    "import torch\n",
    "import torch.nn as nn\n",
    "import torch.optim as optim\n",
    "import torch.nn.functional as F\n",
    "import torchvision.transforms as T\n",
    "\n",
    "from torch.utils.tensorboard import SummaryWriter\n",
    "\n",
    "LOAD_WEIGHTS = False\n",
    "SCREEN_INIT = True\n",
    "# Training epochs for no_gui mode, when (SCREEN_INIT==False)\n",
    "EPOCHS = 3000\n",
    "\n",
    "settings = Settings()\n",
    "print(settings.field_size)\n",
    "snake,apple = gf.new_game(settings)\n",
    "#device = torch.device(\"cuda\" if torch.cuda.is_available() else \"cpu\")\n",
    "device = 'cpu'\n",
    "print(device)\n",
    "policy_net, target_net, optimizer, memory = ag.create_agent(settings,device,ag.MEMORY_SIZE)\n",
    "writer = SummaryWriter()\n",
    "\n",
    "#Optional loading weights of NN from file\n",
    "if LOAD_WEIGHTS:\n",
    "    checkpoint = torch.load('.\\w_100f_512n_512n', map_location=torch.device('cpu'))\n",
    "    policy_net.load_state_dict(checkpoint['model_state_dict'])\n",
    "    optimizer.load_state_dict(checkpoint['optimizer_state_dict'])"
   ]
  },
  {
   "cell_type": "code",
   "execution_count": 5,
   "metadata": {
    "scrolled": false
   },
   "outputs": [
    {
     "ename": "error",
     "evalue": "Window is too large.",
     "output_type": "error",
     "traceback": [
      "\u001b[0;31m---------------------------------------------------------------------------\u001b[0m",
      "\u001b[0;31merror\u001b[0m                                     Traceback (most recent call last)",
      "File \u001b[0;32m<timed exec>:3\u001b[0m\n",
      "File \u001b[0;32m~/pythonprogv2/snake_DQN/game_functions.py:7\u001b[0m, in \u001b[0;36mrun_window\u001b[0;34m(settings)\u001b[0m\n\u001b[1;32m      5\u001b[0m \u001b[38;5;28;01mdef\u001b[39;00m \u001b[38;5;21mrun_window\u001b[39m(settings):\n\u001b[1;32m      6\u001b[0m     pygame\u001b[38;5;241m.\u001b[39minit()\n\u001b[0;32m----> 7\u001b[0m     screen \u001b[38;5;241m=\u001b[39m \u001b[43mpygame\u001b[49m\u001b[38;5;241;43m.\u001b[39;49m\u001b[43mdisplay\u001b[49m\u001b[38;5;241;43m.\u001b[39;49m\u001b[43mset_mode\u001b[49m\u001b[43m(\u001b[49m\u001b[43m(\u001b[49m\u001b[43msettings\u001b[49m\u001b[38;5;241;43m.\u001b[39;49m\u001b[43mwidth\u001b[49m\u001b[43m,\u001b[49m\u001b[43msettings\u001b[49m\u001b[38;5;241;43m.\u001b[39;49m\u001b[43mheight\u001b[49m\u001b[43m)\u001b[49m\u001b[43m)\u001b[49m\n\u001b[1;32m      8\u001b[0m     pygame\u001b[38;5;241m.\u001b[39mdisplay\u001b[38;5;241m.\u001b[39mset_caption(\u001b[38;5;124m\"\u001b[39m\u001b[38;5;124mSnake\u001b[39m\u001b[38;5;124m\"\u001b[39m)\n\u001b[1;32m      9\u001b[0m     \u001b[38;5;28;01mreturn\u001b[39;00m screen\n",
      "\u001b[0;31merror\u001b[0m: Window is too large."
     ]
    }
   ],
   "source": [
    "%%time\n",
    "run=True\n",
    "if SCREEN_INIT:\n",
    "    screen = gf.run_window(settings)\n",
    "    gf.update_screen(screen,settings,snake,apple)\n",
    "epoch=0\n",
    "while run:\n",
    "    if EPOCHS == str(epoch):\n",
    "        run = False\n",
    "    epoch+=1\n",
    "    state = ag.get_screen(settings, snake, apple)\n",
    "    \n",
    "    keys = pygame.key.get_pressed()\n",
    "    if not keys[pygame.K_LCTRL] and not keys[pygame.K_RCTRL]:\n",
    "        if choice == 'y':\n",
    "            for event in pygame.event.get():\n",
    "                if event.type == pygame.QUIT:\n",
    "                    pygame.quit()\n",
    "                    run=False\n",
    "        action = ag.select_action(state,policy_net)\n",
    "\n",
    "    elif choice == 'y':\n",
    "        press=0\n",
    "        while press==0 and run:\n",
    "            for event in pygame.event.get():\n",
    "                if event.type == pygame.QUIT:\n",
    "                    pygame.quit()\n",
    "                    run=False\n",
    "                elif event.type == pygame.KEYDOWN:\n",
    "                    if event.key == pygame.K_RIGHT:\n",
    "                        action=torch.tensor([[0]])\n",
    "                        press=1\n",
    "                    elif event.key == pygame.K_LEFT:\n",
    "                        action=torch.tensor([[1]])\n",
    "                        press=1\n",
    "                    elif event.key == pygame.K_UP:\n",
    "                        action=torch.tensor([[2]])\n",
    "                        press=1\n",
    "                    elif event.key == pygame.K_DOWN:\n",
    "                        action=torch.tensor([[3]])\n",
    "                        press=1\n",
    "    \n",
    "    if run:\n",
    "        gf.check_events(settings,snake,apple,action)\n",
    "        reward = torch.tensor([snake.reward],device=device)\n",
    "        if snake.dead:\n",
    "            writer.add_scalar('Length',len(snake.body),epoch)\n",
    "            snake,apple = gf.new_game(settings)\n",
    "        if choice == 'y':\n",
    "            gf.update_screen(screen,settings,snake,apple)\n",
    "        next_state = ag.get_screen(settings, snake, apple)\n",
    "        memory.push(state, action, next_state, reward)\n",
    "        loss1 = ag.optimize_model(memory,device,policy_net,target_net,optimizer,snake)\n",
    "        if loss1 != None:\n",
    "            writer.add_scalar('Loss',loss1,epoch)"
   ]
  },
  {
   "cell_type": "code",
   "execution_count": 5,
   "metadata": {},
   "outputs": [
    {
     "name": "stdout",
     "output_type": "stream",
     "text": [
      "Save NN weights in file?\n",
      " y or n\n",
      "n\n"
     ]
    }
   ],
   "source": [
    "print('Save NN weights in file?\\n y or n')\n",
    "choice = input()\n",
    "\n",
    "if choice =='y':\n",
    "    torch.save({\n",
    "                'model_state_dict': policy_net.state_dict(),\n",
    "                'optimizer_state_dict': optimizer.state_dict(),\n",
    "\n",
    "                }, 'w_100f_512n_512n')"
   ]
  },
  {
   "cell_type": "code",
   "execution_count": null,
   "metadata": {},
   "outputs": [],
   "source": []
  }
 ],
 "metadata": {
  "kernelspec": {
   "display_name": "Python 3 (ipykernel)",
   "language": "python",
   "name": "python3"
  },
  "language_info": {
   "codemirror_mode": {
    "name": "ipython",
    "version": 3
   },
   "file_extension": ".py",
   "mimetype": "text/x-python",
   "name": "python",
   "nbconvert_exporter": "python",
   "pygments_lexer": "ipython3",
   "version": "3.8.10"
  }
 },
 "nbformat": 4,
 "nbformat_minor": 4
}
