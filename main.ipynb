{
 "cells": [
  {
   "cell_type": "code",
   "execution_count": 1,
   "metadata": {},
   "outputs": [
    {
     "name": "stdout",
     "output_type": "stream",
     "text": [
      "pygame 2.1.0 (SDL 2.0.16, Python 3.8.5)\n",
      "Hello from the pygame community. https://www.pygame.org/contribute.html\n"
     ]
    }
   ],
   "source": [
    "import pygame\n",
    "from settings import Settings\n",
    "import game_functions as gf\n",
    "import agent as ag\n",
    "import keyboard as k\n",
    "\n",
    "import torch\n",
    "import torch.nn as nn\n",
    "import torch.optim as optim\n",
    "import torch.nn.functional as F\n",
    "import torchvision.transforms as T\n",
    "\n",
    "from torch.utils.tensorboard import SummaryWriter\n",
    "\n",
    "settings = Settings()\n",
    "snake,apple = gf.new_game(settings)\n",
    "device = torch.device(\"cuda\" if torch.cuda.is_available() else \"cpu\")\n",
    "policy_net, target_net, optimizer, memory = ag.create_agent(settings,device,ag.MEMORY_SIZE)\n",
    "writer = SummaryWriter()"
   ]
  },
  {
   "cell_type": "code",
   "execution_count": 2,
   "metadata": {},
   "outputs": [
    {
     "name": "stdout",
     "output_type": "stream",
     "text": [
      "Load NN weights from file?\n",
      "y or n\n",
      "y\n"
     ]
    }
   ],
   "source": [
    "#Optional loading weights of NN from file\n",
    "\n",
    "print('Load NN weights from file?\\ny or n')\n",
    "choice = input()\n",
    "if choice =='y':\n",
    "    checkpoint = torch.load('.\\w_100f_512n_512n', map_location=torch.device('cpu'))\n",
    "    policy_net.load_state_dict(checkpoint['model_state_dict'])\n",
    "    optimizer.load_state_dict(checkpoint['optimizer_state_dict'])"
   ]
  },
  {
   "cell_type": "code",
   "execution_count": 3,
   "metadata": {},
   "outputs": [
    {
     "name": "stdout",
     "output_type": "stream",
     "text": [
      "Do you need screen init? If not choose epoch number\n",
      "y or number\n",
      "500000\n"
     ]
    }
   ],
   "source": [
    "print('Do you need screen init? If not choose epoch number\\ny or number')\n",
    "choice = input()"
   ]
  },
  {
   "cell_type": "code",
   "execution_count": 4,
   "metadata": {
    "scrolled": false
   },
   "outputs": [
    {
     "name": "stderr",
     "output_type": "stream",
     "text": [
      "E:\\pythonprog\\snake\\agent.py:141: UserWarning: To copy construct from a tensor, it is recommended to use sourceTensor.clone().detach() or sourceTensor.clone().detach().requires_grad_(True), rather than torch.tensor(sourceTensor).\n",
      "  action = torch.tensor(action)\n"
     ]
    },
    {
     "name": "stdout",
     "output_type": "stream",
     "text": [
      "Wall time: 2h 43min 3s\n"
     ]
    }
   ],
   "source": [
    "%%time\n",
    "run=True\n",
    "if choice == \"y\":\n",
    "    screen = gf.run_window(settings)\n",
    "    gf.update_screen(screen,settings,snake,apple)\n",
    "epoch=0\n",
    "while run:\n",
    "    if choice == str(epoch):\n",
    "        run = False\n",
    "    epoch+=1\n",
    "    state = ag.get_screen(settings, snake, apple)\n",
    "    \n",
    "    if k.is_pressed('ctrl')==False:\n",
    "        if choice == 'y':\n",
    "            for event in pygame.event.get():\n",
    "                if event.type == pygame.QUIT:\n",
    "                    pygame.quit()\n",
    "                    run=False\n",
    "        action = ag.select_action(state,policy_net)\n",
    "\n",
    "    elif choice == 'y':\n",
    "        press=0\n",
    "        while press==0 and run:\n",
    "            for event in pygame.event.get():\n",
    "                if event.type == pygame.QUIT:\n",
    "                    pygame.quit()\n",
    "                    run=False\n",
    "                elif event.type == pygame.KEYDOWN:\n",
    "                    if event.key == pygame.K_RIGHT:\n",
    "                        action=torch.tensor([[0]])\n",
    "                        press=1\n",
    "                    elif event.key == pygame.K_LEFT:\n",
    "                        action=torch.tensor([[1]])\n",
    "                        press=1\n",
    "                    elif event.key == pygame.K_UP:\n",
    "                        action=torch.tensor([[2]])\n",
    "                        press=1\n",
    "                    elif event.key == pygame.K_DOWN:\n",
    "                        action=torch.tensor([[3]])\n",
    "                        press=1\n",
    "    \n",
    "    if run:\n",
    "        gf.check_events(settings,snake,apple,action)\n",
    "        reward = torch.tensor([snake.reward],device=device)\n",
    "        if snake.dead:\n",
    "            writer.add_scalar('Length',len(snake.body),epoch)\n",
    "            snake,apple = gf.new_game(settings)\n",
    "        if choice == 'y':\n",
    "            gf.update_screen(screen,settings,snake,apple)\n",
    "        next_state = ag.get_screen(settings, snake, apple)\n",
    "        memory.push(state, action, next_state, reward)\n",
    "        loss1 = ag.optimize_model(memory,device,policy_net,target_net,optimizer,snake)\n",
    "        if loss1 != None:\n",
    "            writer.add_scalar('Loss',loss1,epoch)"
   ]
  },
  {
   "cell_type": "code",
   "execution_count": 5,
   "metadata": {},
   "outputs": [
    {
     "name": "stdout",
     "output_type": "stream",
     "text": [
      "Save NN weights in file?\n",
      " y or n\n",
      "n\n"
     ]
    }
   ],
   "source": [
    "print('Save NN weights in file?\\n y or n')\n",
    "choice = input()\n",
    "\n",
    "if choice =='y':\n",
    "    torch.save({\n",
    "                'model_state_dict': policy_net.state_dict(),\n",
    "                'optimizer_state_dict': optimizer.state_dict(),\n",
    "\n",
    "                }, 'w_100f_512n_512n')"
   ]
  },
  {
   "cell_type": "code",
   "execution_count": null,
   "metadata": {},
   "outputs": [],
   "source": []
  }
 ],
 "metadata": {
  "kernelspec": {
   "display_name": "Python 3 (ipykernel)",
   "language": "python",
   "name": "python3"
  },
  "language_info": {
   "codemirror_mode": {
    "name": "ipython",
    "version": 3
   },
   "file_extension": ".py",
   "mimetype": "text/x-python",
   "name": "python",
   "nbconvert_exporter": "python",
   "pygments_lexer": "ipython3",
   "version": "3.8.5"
  }
 },
 "nbformat": 4,
 "nbformat_minor": 4
}
